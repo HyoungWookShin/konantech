{
 "cells": [
  {
   "cell_type": "code",
   "execution_count": 1,
   "metadata": {},
   "outputs": [],
   "source": [
    "import numpy as np"
   ]
  },
  {
   "cell_type": "code",
   "execution_count": 2,
   "metadata": {},
   "outputs": [],
   "source": [
    "random_fix = True"
   ]
  },
  {
   "cell_type": "code",
   "execution_count": 3,
   "metadata": {},
   "outputs": [],
   "source": [
    "class Dataset():\n",
    "    def __init__(self, mode):\n",
    "        self.mode = mode\n",
    "        self.input_dim = self.output_dim = self.train_count = 0\n",
    "        self.train_xs = self.test_xs = self.validate_xs = []\n",
    "        self.train_ys = self.test_ys = self.validate_ys = []\n",
    "        self.target_names = []\n",
    "    \n",
    "    def get_train_data(self, batch_size, nth):\n",
    "        if nth == 0:\n",
    "            self.indices = np.arange(self.train_count)\n",
    "            np.random.shuffle(self.indices)\n",
    "        \n",
    "        from_idx = nth * batch_size\n",
    "        to_idx = (nth + 1) * batch_size\n",
    "    \n",
    "        train_X = self.train_xs[self.indices[from_idx:to_idx]]\n",
    "        train_Y = self.train_ys[self.indices[from_idx:to_idx]]\n",
    "        \n",
    "        return train_X, train_Y    \n",
    "    \n",
    "    def get_test_data(self, validate=False, count=0):\n",
    "        if validate:\n",
    "            xs, ys = self.validate_xs, self.validate_ys\n",
    "        else:\n",
    "            xs, ys = self.test_xs, self.test_ys\n",
    "        \n",
    "        if count == 0:\n",
    "            return xs, ys\n",
    "        \n",
    "        if count > len(xs): count = len(xs)\n",
    "        \n",
    "        indices = np.arange(len(xs))\n",
    "        np.random.shuffle(indices)\n",
    "        \n",
    "        return xs[indices[0:count]], ys[indices[0:count]]\n",
    "    \n",
    "    def get_target_name(self, idxs):\n",
    "        return self.target_names[idxs]\n",
    "    \n",
    "    def demonstrate(self, x, estimate, answer):\n",
    "        pass"
   ]
  },
  {
   "cell_type": "code",
   "execution_count": 4,
   "metadata": {},
   "outputs": [],
   "source": [
    "from sklearn import datasets\n",
    "\n",
    "class IrisDataset(Dataset):\n",
    "    pass"
   ]
  },
  {
   "cell_type": "code",
   "execution_count": 5,
   "metadata": {},
   "outputs": [],
   "source": [
    "def iris_init(self, mode, train_ratio=0.8):\n",
    "    Dataset.__init__(self, mode)\n",
    "    \n",
    "    dataset = datasets.load_iris()\n",
    "    \n",
    "    xs, ys = iris_prepare(self, mode, dataset.data, dataset.target)\n",
    "    \n",
    "    data_count = len(dataset.data)\n",
    "    self.train_count = int(data_count * train_ratio)\n",
    "\n",
    "    if random_fix: np.random.seed(1234)\n",
    "\n",
    "    indices = np.arange(data_count)\n",
    "    np.random.shuffle(indices)\n",
    "\n",
    "    self.train_xs = xs[indices[0:self.train_count]]\n",
    "    self.train_ys = ys[indices[0:self.train_count]]\n",
    "    self.test_xs = self.validate_xs = xs[indices[self.train_count:]]\n",
    "    self.test_ys = self.validate_ys = ys[indices[self.train_count:]]\n",
    "    \n",
    "    self.target_names = dataset.target_names\n",
    "\n",
    "def iris_prepare(self, mode, data, target):\n",
    "    if mode == \"regression\":\n",
    "        self.input_dim = 3\n",
    "        self.output_dim = 1\n",
    "        xs = data[:, 0:3]\n",
    "        ys = data[:, 3:4]\n",
    "    elif mode == \"binary\":\n",
    "        self.input_dim = 4\n",
    "        self.output_dim = 1\n",
    "        xs = data\n",
    "        ys = np.equal(target, 0).astype(\"float32\").reshape(-1,1)\n",
    "    elif mode == \"select\":\n",
    "        self.input_dim = 4\n",
    "        self.output_dim = 3\n",
    "        xs = data\n",
    "        ys = np.eye(3)[target]\n",
    "        \n",
    "    return xs, ys\n",
    "\n",
    "IrisDataset.__init__ = iris_init"
   ]
  },
  {
   "cell_type": "code",
   "execution_count": 6,
   "metadata": {},
   "outputs": [],
   "source": [
    "def iris_demonstrate(self, x, estimate, answer):\n",
    "    if self.mode == \"regression\":\n",
    "        print(\"({}, {}, {}) => 추정 {:3.1f}, 정답: {:3.1f}\".format(x[0], x[1], x[2], estimate, answer))\n",
    "    elif self.mode == \"binary\":\n",
    "        estr = \"is setosa\"\n",
    "        astr = \"(오답)\"\n",
    "        if not estimate: estr = \"is not setosa\"\n",
    "        if estimate == answer: astr = \"(정답)\"\n",
    "        print(\"({}, {}, {}, {}) => {} {}\".format(x[0], x[1], x[2], x[3], estr, astr))\n",
    "    elif self.mode == \"select\":\n",
    "        estr = self.target_names[estimate]\n",
    "        astr = \"({})\".format(self.target_names[answer])\n",
    "        if estimate == answer: astr = \"(정답)\"\n",
    "        print(\"({}, {}, {}, {}) => {} {}\".format(x[0], x[1], x[2], x[3], estr, astr))\n",
    "    \n",
    "IrisDataset.demonstrate = iris_demonstrate"
   ]
  },
  {
   "cell_type": "code",
   "execution_count": 7,
   "metadata": {},
   "outputs": [],
   "source": [
    "id1 = IrisDataset(\"regression\")\n",
    "id2 = IrisDataset(\"binary\", 0.88)\n",
    "id3 = IrisDataset(\"select\", 0.7)"
   ]
  },
  {
   "cell_type": "code",
   "execution_count": 8,
   "metadata": {},
   "outputs": [],
   "source": [
    "from tensorflow.examples.tutorials.mnist import input_data\n",
    "import matplotlib.pyplot as plt\n",
    "\n",
    "class MnistDataset(Dataset):\n",
    "    pass\n",
    "\n",
    "def mnist_init(self):\n",
    "    Dataset.__init__(self, \"select\")\n",
    "    \n",
    "    dataset = input_data.read_data_sets(\"MNIST_data/\", one_hot=True)\n",
    "        \n",
    "    self.train_xs = dataset.train.images\n",
    "    self.train_ys = dataset.train.labels\n",
    "        \n",
    "    self.validate_xs = dataset.validation.images\n",
    "    self.validate_ys = dataset.validation.labels\n",
    "        \n",
    "    self.test_xs = dataset.test.images\n",
    "    self.test_ys = dataset.test.labels\n",
    "\n",
    "    self.input_dim = 28 * 28\n",
    "    self.output_dim = 10\n",
    "    \n",
    "    self.train_count = len(dataset.train.images)\n",
    "    self.target_names = ['0','1','2','3','4','5','6','7','8','9']\n",
    "\n",
    "def mnist_demonstrate(self, xs, est, ans):\n",
    "    rows, cols = 4, 4\n",
    "    f, a = plt.subplots(rows, cols, figsize=(cols, rows))\n",
    "    for row in range(cols):\n",
    "        for col in range(cols):\n",
    "            i = row * cols + col\n",
    "            estr = self.target_names[est[i]]\n",
    "            astr = self.target_names[ans[i]]\n",
    "            if est[i] == ans[i]:\n",
    "                caption = \"{}\".format(estr)\n",
    "            else:\n",
    "                caption = \"{}=>{}\".format(astr, estr)\n",
    "            a[row][col].axvspan(0, 0, 0, 6.0)\n",
    "            a[row][col].imshow(np.reshape(xs[i], (28,28)))\n",
    "            a[row][col].text(0.5, -1.5, caption)\n",
    "            a[row][col].axis('off')\n",
    "    f.show()\n",
    "    plt.draw()\n",
    "    plt.show()\n",
    "        \n",
    "MnistDataset.__init__ = mnist_init\n",
    "MnistDataset.demonstrate = mnist_demonstrate"
   ]
  },
  {
   "cell_type": "code",
   "execution_count": 9,
   "metadata": {},
   "outputs": [
    {
     "name": "stdout",
     "output_type": "stream",
     "text": [
      "Extracting MNIST_data/train-images-idx3-ubyte.gz\n",
      "Extracting MNIST_data/train-labels-idx1-ubyte.gz\n",
      "Extracting MNIST_data/t10k-images-idx3-ubyte.gz\n",
      "Extracting MNIST_data/t10k-labels-idx1-ubyte.gz\n"
     ]
    }
   ],
   "source": [
    "md = MnistDataset()"
   ]
  },
  {
   "cell_type": "code",
   "execution_count": 10,
   "metadata": {},
   "outputs": [],
   "source": [
    "class Model(object):\n",
    "    def __init__(self, name, dataset):\n",
    "        self.name = name\n",
    "        self.dataset = dataset\n",
    "        \n",
    "    def train(self, epoch_count=10, batch_size=10):\n",
    "        pass\n",
    "    \n",
    "    def test(self):\n",
    "        pass\n",
    "    \n",
    "    def demonstrate(self, num=10, batch=False):\n",
    "        pass"
   ]
  },
  {
   "cell_type": "code",
   "execution_count": 11,
   "metadata": {},
   "outputs": [],
   "source": [
    "import tensorflow as tf\n",
    "\n",
    "class MultiLayerPerceptronModel(Model):\n",
    "    pass"
   ]
  },
  {
   "cell_type": "code",
   "execution_count": 12,
   "metadata": {},
   "outputs": [],
   "source": [
    "import time\n",
    "\n",
    "def mlp_model_train(self, epoch_count=10, batch_size=10):\n",
    "    if batch_size == 0:\n",
    "        batch_size = self.dataset.train_count\n",
    "        \n",
    "    batch_count = int(self.dataset.train_count / batch_size)\n",
    "    report_period = epoch_count / 10\n",
    "    \n",
    "    sess = tf.Session()\n",
    "    sess.run(tf.global_variables_initializer())\n",
    "\n",
    "    if random_fix: np.random.seed(1945)\n",
    "    \n",
    "    time1 = time2 = int(time.time())\n",
    "    \n",
    "    print(\"Model {} train report:\".format(self.name))\n",
    "    \n",
    "    dset = self.dataset\n",
    "    run_targets = [self.train_op, self.loss, self.accuracy]\n",
    "\n",
    "    for epoch in range(epoch_count):\n",
    "        costs = []\n",
    "        accs = []\n",
    "        for n in range(batch_count):\n",
    "            train_X, train_Y = dset.get_train_data(batch_size, n)\n",
    "            _, cost, acc = sess.run(run_targets, \\\n",
    "                feed_dict={self.x:train_X, self.y:train_Y})\n",
    "            costs.append(cost)\n",
    "            accs.append(acc)\n",
    "            \n",
    "        if (epoch+1) % report_period == 0:\n",
    "            validate_X, validate_Y = dset.get_test_data(True, 30)\n",
    "            acc = sess.run(self.accuracy, \\\n",
    "                feed_dict={self.x:validate_X, self.y:validate_Y})\n",
    "            time3 = int(time.time())\n",
    "            print(\"    Epoch {}: cost={:5.3f}, \\\n",
    "accuracy={:5.3f}/{:5.3f} ({}/{} secs)\". \\\n",
    "                  format(epoch+1, np.mean(costs), np.mean(accs), \\\n",
    "                         acc, time3-time2, time3-time1))\n",
    "            time2 = time3\n",
    "\n",
    "    print(\"\")\n",
    "    \n",
    "    path = \"params/{}.ckpt\".format(self.name)\n",
    "    self.saver.save(sess, path)\n",
    "    sess.close()\n",
    "\n",
    "MultiLayerPerceptronModel.train = mlp_model_train"
   ]
  },
  {
   "cell_type": "code",
   "execution_count": 13,
   "metadata": {},
   "outputs": [],
   "source": [
    "def mlp_model_test(self):\n",
    "    test_X, test_Y = self.dataset.get_test_data()\n",
    "\n",
    "    sess = tf.Session()\n",
    "    path = \"params/{}.ckpt\".format(self.name)\n",
    "    self.saver.restore(sess, path)\n",
    "    \n",
    "    time1 = int(time.time())\n",
    "    acc = sess.run(self.accuracy, feed_dict={self.x:test_X, self.y:test_Y})\n",
    "    time2 = int(time.time())\n",
    "    \n",
    "    print(\"Model {} test report: accuracy = {:5.3f}, ({} secs)\".format(self.name, acc, time2-time1))\n",
    "    print(\"\")\n",
    "    \n",
    "    sess.close()\n",
    "\n",
    "MultiLayerPerceptronModel.test = mlp_model_test"
   ]
  },
  {
   "cell_type": "code",
   "execution_count": 14,
   "metadata": {},
   "outputs": [],
   "source": [
    "def mlp_model_demonstrate(self, num=10, batch=False):\n",
    "    demo_X, demo_Y = self.dataset.get_test_data(False, num)\n",
    "\n",
    "    sess = tf.Session()\n",
    "    path = \"params/{}.ckpt\".format(self.name)\n",
    "    self.saver.restore(sess, path)\n",
    "    \n",
    "    print(\"Model {} Demonstration\".format(self.name))\n",
    "    est, ans = sess.run([self.estimate, self.answer], \\\n",
    "           feed_dict={self.x:demo_X, self.y:demo_Y})\n",
    "    if batch:\n",
    "        self.dataset.demonstrate(demo_X, est, ans)\n",
    "    else:\n",
    "        for n in range(len(demo_X)):\n",
    "            self.dataset.demonstrate(demo_X[n], est[n], ans[n])\n",
    "        print(\"\")\n",
    "    \n",
    "    sess.close()\n",
    "    \n",
    "MultiLayerPerceptronModel.demonstrate = mlp_model_demonstrate"
   ]
  },
  {
   "cell_type": "code",
   "execution_count": 15,
   "metadata": {},
   "outputs": [],
   "source": [
    "def mlp_init(self, name, dataset, hidden_dims, learning_rate=0.001):\n",
    "    Model.__init__(self, name, dataset)\n",
    "    with tf.variable_scope(self.name):\n",
    "        self.build_placeholders()\n",
    "        self.build_parameters(hidden_dims)\n",
    "        self.build_neuralnet(hidden_dims)\n",
    "        self.build_loss_accuracy()\n",
    "        self.build_optimizer(learning_rate)\n",
    "        self.build_saver()\n",
    "        \n",
    "MultiLayerPerceptronModel.__init__ = mlp_init"
   ]
  },
  {
   "cell_type": "code",
   "execution_count": 16,
   "metadata": {},
   "outputs": [],
   "source": [
    "def build_placeholders(self):\n",
    "    input_dim = self.dataset.input_dim\n",
    "    output_dim = self.dataset.output_dim\n",
    "    self.x = tf.placeholder(\"float\", [None, input_dim])\n",
    "    self.y = tf.placeholder(\"float\", [None, output_dim])\n",
    "        \n",
    "MultiLayerPerceptronModel.build_placeholders = build_placeholders"
   ]
  },
  {
   "cell_type": "code",
   "execution_count": 17,
   "metadata": {},
   "outputs": [],
   "source": [
    "def build_parameters(self, hidden_dims):\n",
    "    if random_fix: np.random.seed(9876)\n",
    "\n",
    "    input_dim = self.dataset.input_dim\n",
    "    output_dim = self.dataset.output_dim\n",
    "\n",
    "    self.w_hids, self.b_hids = [], []\n",
    "    \n",
    "    prev_dim = input_dim\n",
    "\n",
    "    for n in range(len(hidden_dims)):\n",
    "        next_dim = hidden_dims[n]\n",
    "        w = tf.Variable(init_rand_normal(prev_dim, next_dim))\n",
    "        b = tf.Variable(tf.zeros([next_dim]))\n",
    "        self.w_hids.append(w)\n",
    "        self.b_hids.append(b)\n",
    "        prev_dim = next_dim\n",
    "\n",
    "    self.w_out = tf.Variable(init_rand_normal(prev_dim, output_dim))\n",
    "    self.b_out = tf.Variable(tf.zeros([output_dim]))\n",
    "\n",
    "def init_rand_normal(in_dim, out_dim, rand_std=0.0300):\n",
    "    if not random_fix:\n",
    "        init = tf.random_normal([in_dim, out_dim], stddev=rand_std)\n",
    "    else:\n",
    "        init_64 = np.random.normal(0, rand_std, [in_dim, out_dim])\n",
    "        init = init_64.astype('float32')\n",
    "\n",
    "    return init\n",
    "        \n",
    "MultiLayerPerceptronModel.build_parameters = build_parameters"
   ]
  },
  {
   "cell_type": "code",
   "execution_count": 18,
   "metadata": {},
   "outputs": [],
   "source": [
    "def build_neuralnet(self, hidden_dims):\n",
    "    hidden = self.x\n",
    "    for n in range(len(hidden_dims)):\n",
    "        affine = tf.matmul(hidden, self.w_hids[n]) + self.b_hids[n]\n",
    "        hidden = tf.nn.relu(affine)\n",
    "    self.output = tf.matmul(hidden, self.w_out) + self.b_out\n",
    "        \n",
    "MultiLayerPerceptronModel.build_neuralnet = build_neuralnet"
   ]
  },
  {
   "cell_type": "code",
   "execution_count": 19,
   "metadata": {},
   "outputs": [],
   "source": [
    "def build_loss_accuracy(self):\n",
    "    if self.dataset.mode == \"regression\":\n",
    "        self.estimate = self.output[:,0]\n",
    "        self.answer = self.y[:,0]\n",
    "        diff = self.estimate - self.answer\n",
    "        self.loss = tf.reduce_mean(tf.pow(diff, 2))\n",
    "        error = tf.reduce_mean(tf.abs(diff) / self.answer)\n",
    "        self.accuracy = 1 - error\n",
    "    elif self.dataset.mode == \"binary\":\n",
    "        cross_entropy = tf.nn.sigmoid_cross_entropy_with_logits(labels=self.y, logits=self.output)\n",
    "        self.loss = tf.reduce_mean(cross_entropy)\n",
    "        #probs = tf.nn.sigmoid(output)\n",
    "        #estimate = tf.greater(probs, 0.5)\n",
    "        self.estimate = tf.greater(self.output, 0)\n",
    "        self.answer = tf.equal(self.y, 1.0)\n",
    "        correct_bool = tf.equal(self.estimate, self.answer)\n",
    "        correct = tf.cast(correct_bool, \"float\")\n",
    "        self.accuracy = tf.reduce_mean(correct)\n",
    "    elif self.dataset.mode == \"select\":\n",
    "        cross_entropy = tf.nn.softmax_cross_entropy_with_logits(labels=self.y, logits=self.output)\n",
    "        self.loss = tf.reduce_mean(cross_entropy)\n",
    "        #probs = tf.nn.softmax(output)\n",
    "        #estimate = tf.argmax(probs, 1)\n",
    "        self.estimate = tf.argmax(self.output, 1)\n",
    "        self.answer = tf.argmax(self.y, 1)\n",
    "        correct_bool = tf.equal(self.estimate, self.answer)\n",
    "        correct = tf.cast(correct_bool, \"float\")\n",
    "        self.accuracy = tf.reduce_mean(correct)\n",
    "        \n",
    "MultiLayerPerceptronModel.build_loss_accuracy = build_loss_accuracy"
   ]
  },
  {
   "cell_type": "code",
   "execution_count": 20,
   "metadata": {},
   "outputs": [],
   "source": [
    "def build_optimizer(self, learning_rate):\n",
    "    optimizer = tf.train.GradientDescentOptimizer(learning_rate)\n",
    "    self.train_op = optimizer.minimize(self.loss)\n",
    "\n",
    "def build_saver(self):\n",
    "    var_list = tf.get_collection(tf.GraphKeys.GLOBAL_VARIABLES, scope=self.name)\n",
    "    self.saver = tf.train.Saver(var_list=var_list)\n",
    "        \n",
    "MultiLayerPerceptronModel.build_optimizer = build_optimizer\n",
    "MultiLayerPerceptronModel.build_saver = build_saver"
   ]
  },
  {
   "cell_type": "code",
   "execution_count": 21,
   "metadata": {},
   "outputs": [],
   "source": [
    "def relu(x):\n",
    "    return np.maximum(x, 0)\n",
    "\n",
    "def relu_derv(y):\n",
    "    return np.sign(y)"
   ]
  },
  {
   "cell_type": "code",
   "execution_count": 22,
   "metadata": {},
   "outputs": [],
   "source": [
    "def sigmoid(x):\n",
    "    return 1.0 / (1.0 + np.exp(-x))\n",
    "\n",
    "def sigmoid_derv(x, y):\n",
    "    return y * (1 - y)\n",
    "\n",
    "def sigmoid_cross_entropy(z, x):\n",
    "    return np.maximum(x, 0) - x * z + np.log(1 + np.exp(-np.abs(x)))\n",
    "\n",
    "def sigmoid_cross_entropy_derv(z, x):\n",
    "    return -z + sigmoid(x)"
   ]
  },
  {
   "cell_type": "code",
   "execution_count": 23,
   "metadata": {},
   "outputs": [],
   "source": [
    "def softmax(x):\n",
    "    max_elem = np.max(x, axis=1)\n",
    "    diff = (x.transpose() - max_elem).transpose()\n",
    "    exp = np.exp(diff)\n",
    "    sum_exp = np.sum(exp, axis=1)\n",
    "    probs = (exp.transpose() / sum_exp).transpose()\n",
    "    return probs\n",
    "\n",
    "def softmax_derv(x, y):\n",
    "    mb_size, nom_size = x.shape\n",
    "    derv = np.ndarray([mb_size, nom_size, nom_size])\n",
    "    for n in range(mb_size):\n",
    "        for i in range(nom_size):\n",
    "            for j in range(nom_size):\n",
    "                derv[n, i, j] = -y[n,i] * y[n,j]\n",
    "            derv[n, i, i] += y[n,i]\n",
    "    return derv\n",
    "\n",
    "def softmax_cross_entropy(p, q):\n",
    "    return -np.sum(p * np.log(q), axis=1)\n",
    "\n",
    "def softmax_cross_entropy_derv(p, q):\n",
    "    return -p / q"
   ]
  },
  {
   "cell_type": "code",
   "execution_count": 24,
   "metadata": {},
   "outputs": [],
   "source": [
    "class NoTFMLPModel(Model):\n",
    "    pass"
   ]
  },
  {
   "cell_type": "code",
   "execution_count": 25,
   "metadata": {},
   "outputs": [],
   "source": [
    "def notf_init(self,name,dataset,hidden_dims,learning_rate=0.001):\n",
    "    Model.__init__(self, name, dataset)\n",
    "    init_parameters(self, hidden_dims)\n",
    "    self.learning_rate = learning_rate\n",
    "    self.hidden_dims = hidden_dims\n",
    "    \n",
    "NoTFMLPModel.__init__ = notf_init"
   ]
  },
  {
   "cell_type": "code",
   "execution_count": 26,
   "metadata": {},
   "outputs": [],
   "source": [
    "import time\n",
    "\n",
    "def notf_model_train(self, epoch_count=10, batch_size=10):\n",
    "    if batch_size == 0:\n",
    "        batch_size = self.dataset.train_count\n",
    "        \n",
    "    batch_count = int(self.dataset.train_count / batch_size)\n",
    "    report_period = epoch_count / 10\n",
    "    \n",
    "    if random_fix: np.random.seed(1945)\n",
    "    \n",
    "    time1 = time2 = int(time.time())\n",
    "    \n",
    "    print(\"Model {} train report:\".format(self.name))\n",
    "    \n",
    "    dset = self.dataset\n",
    "\n",
    "    for epoch in range(epoch_count):\n",
    "        costs = []\n",
    "        accs = []\n",
    "        for n in range(batch_count):\n",
    "            train_X, train_Y = dset.get_train_data(batch_size, n)\n",
    "            cost, acc = self.train_step(train_X, train_Y)\n",
    "            costs.append(cost)\n",
    "            accs.append(acc)\n",
    "            \n",
    "        if (epoch+1) % report_period == 0:\n",
    "            validate_X, validate_Y = dset.get_test_data(True, 30)\n",
    "            acc = self.get_accuracy(validate_X, validate_Y)\n",
    "            time3 = int(time.time())\n",
    "            print(\"    Epoch {}: cost={:5.3f}, \\\n",
    "accuracy={:5.3f}/{:5.3f} ({}/{} secs)\". \\\n",
    "                  format(epoch+1, np.mean(costs), np.mean(accs), \\\n",
    "                         acc, time3-time2, time3-time1))\n",
    "            time2 = time3\n",
    "\n",
    "    print(\"\")\n",
    "    \n",
    "    path = \"params/{}.ntpt\".format(self.name)\n",
    "    self.save_parameters(path)\n",
    "\n",
    "NoTFMLPModel.train = notf_model_train"
   ]
  },
  {
   "cell_type": "code",
   "execution_count": 27,
   "metadata": {},
   "outputs": [],
   "source": [
    "def notf_model_test(self):\n",
    "    test_X, test_Y = self.dataset.get_test_data()\n",
    "\n",
    "    path = \"params/{}.ntpt\".format(self.name)\n",
    "    self.restore_parameters(path)\n",
    "    \n",
    "    time1 = int(time.time())\n",
    "    acc = self.get_accuracy(test_X, test_Y)\n",
    "    time2 = int(time.time())\n",
    "    \n",
    "    print(\"Model {} test report: accuracy = {:5.3f}, ({} secs)\". \\\n",
    "          format(self.name, acc, time2-time1))\n",
    "    print(\"\")\n",
    "    \n",
    "NoTFMLPModel.test = notf_model_test"
   ]
  },
  {
   "cell_type": "code",
   "execution_count": 28,
   "metadata": {},
   "outputs": [],
   "source": [
    "def notf_model_demonstrate(self, num=10, batch=False):\n",
    "    demo_X, demo_Y = self.dataset.get_test_data(False, num)\n",
    "\n",
    "    path = \"params/{}.ntpt\".format(self.name)\n",
    "    self.restore_parameters(path)\n",
    "    \n",
    "    print(\"Model {} Demonstration\".format(self.name))\n",
    "    est, ans = self.get_estimate_answer(demo_X, demo_Y)\n",
    "    if batch:\n",
    "        self.dataset.demonstrate(demo_X, est, ans)\n",
    "    else:\n",
    "        for n in range(len(demo_X)):\n",
    "            self.dataset.demonstrate(demo_X[n], est[n], ans[n])\n",
    "        print(\"\")\n",
    "    \n",
    "NoTFMLPModel.demonstrate = notf_model_demonstrate"
   ]
  },
  {
   "cell_type": "code",
   "execution_count": 29,
   "metadata": {},
   "outputs": [],
   "source": [
    "def train_step(self, x, y):\n",
    "    output = self.proc_forward(x)\n",
    "\n",
    "    loss_grad = 1.0\n",
    "    \n",
    "    if self.dataset.mode == \"regression\":\n",
    "        diff = output - y\n",
    "        power = np.power(diff, 2)\n",
    "        loss = np.mean(power)\n",
    "        power_derv = np.ones_like(y) / np.prod(y.shape)\n",
    "        power_grad = power_derv * loss_grad\n",
    "        diff_derv = 2 * diff\n",
    "        diff_grad = diff_derv * power_grad\n",
    "        output_derv = 1\n",
    "        output_grad = output_derv * diff_grad\n",
    "    elif self.dataset.mode == \"binary\":\n",
    "        entropy = sigmoid_cross_entropy(y, output)\n",
    "        loss = np.mean(entropy)\n",
    "        ent_derv = np.ones_like(entropy) / np.prod(entropy.shape)\n",
    "        ent_grad = ent_derv * loss_grad\n",
    "        output_derv = sigmoid_cross_entropy_derv(y, output)\n",
    "        output_grad = output_derv * ent_grad\n",
    "    elif self.dataset.mode == \"select\":\n",
    "        probs = softmax(output)\n",
    "        entropy = softmax_cross_entropy(y, probs)\n",
    "        loss = np.mean(entropy)\n",
    "        ent_grad = loss_grad / np.prod(entropy.shape)\n",
    "        probs_derv = softmax_cross_entropy_derv(y, probs)\n",
    "        probs_grad = probs_derv * ent_grad\n",
    "        output_derv = softmax_derv(output, probs)\n",
    "        output_grad = [np.matmul(output_derv[n], probs_grad[n]) \\\n",
    "                       for n in range(output.shape[0])]\n",
    "    \n",
    "    self.proc_backward(x, output_grad)\n",
    "    \n",
    "    return loss, self.eval_accuracy(x, y, output)\n",
    "\n",
    "NoTFMLPModel.train_step = train_step"
   ]
  },
  {
   "cell_type": "code",
   "execution_count": 30,
   "metadata": {},
   "outputs": [],
   "source": [
    "def init_parameters(self, hidden_dims):\n",
    "    if random_fix: np.random.seed(9876)\n",
    "\n",
    "    input_dim = self.dataset.input_dim\n",
    "    output_dim = self.dataset.output_dim\n",
    "\n",
    "    self.weights, self.biases = [], []\n",
    "    \n",
    "    prev_dim = input_dim\n",
    "\n",
    "    for n in range(len(hidden_dims)):\n",
    "        next_dim = hidden_dims[n]\n",
    "        w = notf_init_rand_normal(prev_dim, next_dim)\n",
    "        b = np.zeros([next_dim])\n",
    "        self.weights.append(w)\n",
    "        self.biases.append(b)\n",
    "        prev_dim = next_dim\n",
    "\n",
    "    w = notf_init_rand_normal(prev_dim, output_dim)\n",
    "    b = np.zeros([output_dim])\n",
    "    self.weights.append(w)\n",
    "    self.biases.append(b)\n",
    "    \n",
    "def notf_init_rand_normal(in_dim, out_dim, rand_std=0.0300):\n",
    "    init_64 = np.random.normal(0, rand_std, [in_dim, out_dim])\n",
    "    init = init_64.astype('float32')\n",
    "    return init"
   ]
  },
  {
   "cell_type": "code",
   "execution_count": 31,
   "metadata": {},
   "outputs": [],
   "source": [
    "def proc_forward(self, x):\n",
    "    self.hiddens = [x]\n",
    "\n",
    "    for n in range(len(self.hidden_dims)):\n",
    "        w, b = self.weights[n], self.biases[n]\n",
    "        hid = relu(np.matmul(self.hiddens[-1], w) + b)\n",
    "        self.hiddens.append(hid)\n",
    "    \n",
    "    w, b = self.weights[-1], self.biases[-1]\n",
    "    output = np.matmul(self.hiddens[-1], w) + b\n",
    "    \n",
    "    return output\n",
    "\n",
    "NoTFMLPModel.proc_forward = proc_forward"
   ]
  },
  {
   "cell_type": "code",
   "execution_count": 32,
   "metadata": {},
   "outputs": [],
   "source": [
    "def proc_backward(self, x, grad):\n",
    "    w_out_derv = self.hiddens[-1].transpose()\n",
    "    w_out_grad = np.matmul(w_out_derv, grad)\n",
    "    \n",
    "    b_out_grad = np.sum(grad, axis=0)\n",
    "    \n",
    "    hidden_derv = self.weights[-1].transpose()\n",
    "    hidden_grad = np.matmul(grad, hidden_derv)\n",
    "    \n",
    "    for n in range(len(self.hidden_dims))[::-1]:\n",
    "        hidden_affine_derv = relu_derv(self.hiddens[n+1])\n",
    "        hidden_affine_grad = hidden_affine_derv * hidden_grad\n",
    "    \n",
    "        w_hid_derv = self.hiddens[n].transpose()\n",
    "        w_hid_grad = np.matmul(w_hid_derv, hidden_affine_grad)\n",
    "    \n",
    "        b_hid_grad = np.sum(hidden_affine_grad, axis=0)\n",
    "        \n",
    "        hidden_derv = self.weights[n].transpose()\n",
    "        hidden_grad = np.matmul(hidden_affine_grad, hidden_derv)\n",
    "    \n",
    "        self.weights[n] = self.weights[n] - self.learning_rate * w_hid_grad\n",
    "        self.biases[n] = self.biases[n] - self.learning_rate * b_hid_grad\n",
    "    \n",
    "    self.weights[-1] = self.weights[-1] - self.learning_rate * w_out_grad\n",
    "    self.biases[-1] = self.biases[-1] - self.learning_rate * b_out_grad\n",
    "    \n",
    "NoTFMLPModel.proc_backward = proc_backward"
   ]
  },
  {
   "cell_type": "code",
   "execution_count": 33,
   "metadata": {},
   "outputs": [],
   "source": [
    "def get_accuracy(self, x, y):\n",
    "    output = self.proc_forward(x)\n",
    "    return self.eval_accuracy(x, y, output)\n",
    "\n",
    "def eval_accuracy(self, x, y, output):\n",
    "    if self.dataset.mode == \"regression\":\n",
    "        diff = output - y\n",
    "        answer = y[:,0]\n",
    "        error = np.mean(np.abs(diff) / answer)\n",
    "        accuracy = 1 - error\n",
    "    elif self.dataset.mode == \"binary\":\n",
    "        #probs = sigmoid(output)\n",
    "        #estimate = np.greater(probs, 0.5)\n",
    "        estimate = np.greater(output, 0)\n",
    "        answer = np.equal(y, 1.0)\n",
    "        correct_bool = np.equal(estimate, answer)\n",
    "        #correct = np.cast(correct_bool, \"float32\")\n",
    "        accuracy = np.mean(correct_bool)\n",
    "    elif self.dataset.mode == \"select\":\n",
    "        #probs = softmax(output)\n",
    "        #estimate = np.argmax(probs, 1)\n",
    "        estimate = np.argmax(output, 1)\n",
    "        answer = np.argmax(y, 1)\n",
    "        correct_bool = np.equal(estimate, answer)\n",
    "        #correct = np.cast(correct_bool, \"float32\")\n",
    "        accuracy = np.mean(correct_bool)\n",
    "    \n",
    "    return accuracy\n",
    "\n",
    "NoTFMLPModel.eval_accuracy = eval_accuracy\n",
    "NoTFMLPModel.get_accuracy = get_accuracy"
   ]
  },
  {
   "cell_type": "code",
   "execution_count": 34,
   "metadata": {},
   "outputs": [],
   "source": [
    "def get_estimate_answer(self, x, y):\n",
    "    output = self.proc_forward(x)\n",
    "\n",
    "    if self.dataset.mode == \"regression\":\n",
    "        estimate = output[:,0]\n",
    "        answer = y[:,0]\n",
    "    elif self.dataset.mode == \"binary\":\n",
    "        #probs = sigmoid(output)\n",
    "        #estimate = np.greater(probs, 0.5)\n",
    "        estimate = np.greater(output, 0)\n",
    "        answer = np.equal(y, 1.0)\n",
    "    elif self.dataset.mode == \"select\":\n",
    "        #probs = softmax(output)\n",
    "        #estimate = np.argmax(probs, 1)\n",
    "        estimate = np.argmax(output, 1)\n",
    "        answer = np.argmax(y, 1)\n",
    "    \n",
    "    return estimate, answer\n",
    "\n",
    "NoTFMLPModel.get_estimate_answer = get_estimate_answer"
   ]
  },
  {
   "cell_type": "code",
   "execution_count": 35,
   "metadata": {},
   "outputs": [],
   "source": [
    "def save_parameters(self, path):\n",
    "    np.savez(path, self.weights, self.biases)\n",
    "\n",
    "def restore_parameters(self, path):\n",
    "    fc = np.load(path)\n",
    "    self.weights, self.biases = fc['arr_0'], fc['arr_1']\n",
    "\n",
    "NoTFMLPModel.save_parameters = save_parameters\n",
    "NoTFMLPModel.restore_parameters = restore_parameters"
   ]
  },
  {
   "cell_type": "code",
   "execution_count": 36,
   "metadata": {},
   "outputs": [
    {
     "name": "stdout",
     "output_type": "stream",
     "text": [
      "Model notf-iris-regression-hid-1 train report:\n",
      "    Epoch 10: cost=0.548, accuracy=-0.228/-0.642 (0/0 secs)\n",
      "    Epoch 20: cost=0.264, accuracy=0.169/-0.162 (0/0 secs)\n",
      "    Epoch 30: cost=0.229, accuracy=0.175/-0.090 (0/0 secs)\n",
      "    Epoch 40: cost=0.196, accuracy=0.266/-0.014 (0/0 secs)\n",
      "    Epoch 50: cost=0.165, accuracy=0.317/0.059 (0/0 secs)\n",
      "    Epoch 60: cost=0.137, accuracy=0.371/0.135 (0/0 secs)\n",
      "    Epoch 70: cost=0.112, accuracy=0.454/0.207 (0/0 secs)\n",
      "    Epoch 80: cost=0.092, accuracy=0.512/0.279 (0/0 secs)\n",
      "    Epoch 90: cost=0.077, accuracy=0.547/0.345 (0/0 secs)\n",
      "    Epoch 100: cost=0.066, accuracy=0.594/0.401 (0/0 secs)\n",
      "\n",
      "Model notf-iris-binary-hid-3 train report:\n",
      "    Epoch 10: cost=0.690, accuracy=0.669/0.667 (0/0 secs)\n",
      "    Epoch 20: cost=0.687, accuracy=0.662/0.667 (0/0 secs)\n",
      "    Epoch 30: cost=0.683, accuracy=0.669/0.667 (0/0 secs)\n",
      "    Epoch 40: cost=0.681, accuracy=0.662/0.667 (0/0 secs)\n",
      "    Epoch 50: cost=0.678, accuracy=0.669/0.667 (0/0 secs)\n",
      "    Epoch 60: cost=0.676, accuracy=0.662/0.667 (0/0 secs)\n",
      "    Epoch 70: cost=0.673, accuracy=0.669/0.667 (0/0 secs)\n",
      "    Epoch 80: cost=0.672, accuracy=0.662/0.667 (0/0 secs)\n",
      "    Epoch 90: cost=0.669, accuracy=0.662/0.667 (0/0 secs)\n",
      "    Epoch 100: cost=0.666, accuracy=0.669/0.667 (0/0 secs)\n",
      "\n",
      "Model notf-iris-select-hid-none train report:\n",
      "    Epoch 10: cost=1.013, accuracy=0.550/0.600 (0/0 secs)\n",
      "    Epoch 20: cost=0.960, accuracy=0.720/0.833 (0/0 secs)\n",
      "    Epoch 30: cost=0.914, accuracy=0.840/1.000 (0/0 secs)\n",
      "    Epoch 40: cost=0.869, accuracy=0.670/0.733 (0/0 secs)\n",
      "    Epoch 50: cost=0.843, accuracy=0.860/1.000 (0/0 secs)\n",
      "    Epoch 60: cost=0.806, accuracy=0.870/0.967 (0/0 secs)\n",
      "    Epoch 70: cost=0.774, accuracy=0.790/0.900 (0/0 secs)\n",
      "    Epoch 80: cost=0.756, accuracy=0.860/0.867 (0/0 secs)\n",
      "    Epoch 90: cost=0.737, accuracy=0.950/1.000 (0/0 secs)\n",
      "    Epoch 100: cost=0.707, accuracy=0.830/0.933 (0/0 secs)\n",
      "\n"
     ]
    }
   ],
   "source": [
    "m1 = NoTFMLPModel(\"notf-iris-regression-hid-1\", id1, [10])\n",
    "m1.train(epoch_count=100)\n",
    "\n",
    "m2 = NoTFMLPModel(\"notf-iris-binary-hid-3\", id2, [8,4,2])\n",
    "m2.train(epoch_count=100)\n",
    "\n",
    "m3 = NoTFMLPModel(\"notf-iris-select-hid-none\", id3, [])\n",
    "m3.train(epoch_count=100)"
   ]
  },
  {
   "cell_type": "code",
   "execution_count": 37,
   "metadata": {},
   "outputs": [
    {
     "name": "stdout",
     "output_type": "stream",
     "text": [
      "Model notf-iris-regression-hid-1 test report: accuracy = 0.401, (0 secs)\n",
      "\n",
      "Model notf-iris-binary-hid-3 test report: accuracy = 0.667, (0 secs)\n",
      "\n",
      "Model notf-iris-select-hid-none test report: accuracy = 0.956, (0 secs)\n",
      "\n"
     ]
    }
   ],
   "source": [
    "m1.test()\n",
    "m2.test()\n",
    "m3.test()"
   ]
  },
  {
   "cell_type": "code",
   "execution_count": 38,
   "metadata": {
    "scrolled": true
   },
   "outputs": [
    {
     "name": "stdout",
     "output_type": "stream",
     "text": [
      "Model notf-iris-regression-hid-1 Demonstration\n",
      "(6.6, 3.0, 4.4) => 추정 1.5, 정답: 1.4\n",
      "(6.8, 3.0, 5.5) => 추정 1.8, 정답: 2.1\n",
      "(4.7, 3.2, 1.3) => 추정 0.4, 정답: 0.2\n",
      "(4.6, 3.2, 1.4) => 추정 0.4, 정답: 0.2\n",
      "(5.1, 3.3, 1.7) => 추정 0.5, 정답: 0.5\n",
      "\n",
      "Model notf-iris-binary-hid-3 Demonstration\n",
      "(5.5, 2.4, 3.8, 1.1) => is not setosa (정답)\n",
      "(6.8, 3.2, 5.9, 2.3) => is not setosa (정답)\n",
      "(5.6, 2.5, 3.9, 1.1) => is not setosa (정답)\n",
      "(5.0, 3.4, 1.6, 0.4) => is not setosa (오답)\n",
      "(6.8, 2.8, 4.8, 1.4) => is not setosa (정답)\n",
      "\n",
      "Model notf-iris-select-hid-none Demonstration\n",
      "(6.1, 3.0, 4.9, 1.8) => virginica (정답)\n",
      "(6.9, 3.2, 5.7, 2.3) => virginica (정답)\n",
      "(7.3, 2.9, 6.3, 1.8) => virginica (정답)\n",
      "(5.5, 2.4, 3.8, 1.1) => versicolor (정답)\n",
      "(5.0, 3.4, 1.6, 0.4) => setosa (정답)\n",
      "\n"
     ]
    }
   ],
   "source": [
    "m1.demonstrate(5)\n",
    "m2.demonstrate(5)\n",
    "m3.demonstrate(5)"
   ]
  },
  {
   "cell_type": "code",
   "execution_count": 39,
   "metadata": {},
   "outputs": [
    {
     "name": "stdout",
     "output_type": "stream",
     "text": [
      "Model notf-mnist-hidden-1 train report:\n",
      "    Epoch 1: cost=0.670, accuracy=0.813/0.900 (5/5 secs)\n",
      "    Epoch 2: cost=0.310, accuracy=0.912/1.000 (5/10 secs)\n",
      "    Epoch 3: cost=0.262, accuracy=0.925/0.933 (4/14 secs)\n",
      "    Epoch 4: cost=0.227, accuracy=0.936/0.967 (5/19 secs)\n",
      "    Epoch 5: cost=0.200, accuracy=0.943/0.967 (4/23 secs)\n",
      "    Epoch 6: cost=0.180, accuracy=0.949/0.967 (5/28 secs)\n",
      "    Epoch 7: cost=0.163, accuracy=0.953/0.967 (4/32 secs)\n",
      "    Epoch 8: cost=0.150, accuracy=0.956/0.867 (5/37 secs)\n",
      "    Epoch 9: cost=0.139, accuracy=0.960/0.967 (4/41 secs)\n",
      "    Epoch 10: cost=0.130, accuracy=0.963/0.900 (5/46 secs)\n",
      "\n",
      "Model notf-mnist-hidden-1 test report: accuracy = 0.959, (0 secs)\n",
      "\n",
      "Model notf-mnist-hidden-3 train report:\n",
      "    Epoch 1: cost=2.302, accuracy=0.112/0.133 (4/4 secs)\n",
      "    Epoch 2: cost=2.301, accuracy=0.112/0.133 (4/8 secs)\n",
      "    Epoch 3: cost=2.301, accuracy=0.112/0.100 (5/13 secs)\n",
      "    Epoch 4: cost=2.301, accuracy=0.112/0.100 (4/17 secs)\n",
      "    Epoch 5: cost=2.122, accuracy=0.169/0.300 (4/21 secs)\n",
      "    Epoch 6: cost=1.282, accuracy=0.508/0.667 (5/26 secs)\n",
      "    Epoch 7: cost=0.881, accuracy=0.680/0.800 (4/30 secs)\n",
      "    Epoch 8: cost=0.536, accuracy=0.841/0.767 (4/34 secs)\n",
      "    Epoch 9: cost=0.403, accuracy=0.886/0.900 (4/38 secs)\n",
      "    Epoch 10: cost=0.352, accuracy=0.901/0.833 (5/43 secs)\n",
      "\n",
      "Model notf-mnist-hidden-3 test report: accuracy = 0.907, (0 secs)\n",
      "\n"
     ]
    }
   ],
   "source": [
    "m4 = NoTFMLPModel(\"notf-mnist-hidden-1\", md, [32], 0.01)\n",
    "m4.train(epoch_count=10)\n",
    "m4.test()\n",
    "\n",
    "m5 = NoTFMLPModel(\"notf-mnist-hidden-3\", md, [16,8,4], 0.01)\n",
    "m5.train(epoch_count=10)\n",
    "m5.test()"
   ]
  },
  {
   "cell_type": "code",
   "execution_count": 40,
   "metadata": {},
   "outputs": [
    {
     "name": "stdout",
     "output_type": "stream",
     "text": [
      "Model notf-mnist-hidden-1 Demonstration\n"
     ]
    },
    {
     "name": "stderr",
     "output_type": "stream",
     "text": [
      "/usr/local/lib/python3.4/dist-packages/matplotlib/figure.py:418: UserWarning: matplotlib is currently using a non-GUI backend, so cannot show the figure\n",
      "  \"matplotlib is currently using a non-GUI backend, \"\n"
     ]
    },
    {
     "data": {
      "image/png": "[encoded data removed]",
      "text/plain": [
       "<matplotlib.figure.Figure at 0x7f0ef2889eb8>"
      ]
     },
     "metadata": {},
     "output_type": "display_data"
    },
    {
     "name": "stdout",
     "output_type": "stream",
     "text": [
      "Model notf-mnist-hidden-3 Demonstration\n"
     ]
    },
    {
     "data": {
      "image/png": "[encoded data removed]",
      "text/plain": [
       "<matplotlib.figure.Figure at 0x7f0ef081bcf8>"
      ]
     },
     "metadata": {},
     "output_type": "display_data"
    }
   ],
   "source": [
    "m4.demonstrate(16, True)\n",
    "m5.demonstrate(16, True)"
   ]
  },
  {
   "cell_type": "code",
   "execution_count": 41,
   "metadata": {},
   "outputs": [
    {
     "name": "stdout",
     "output_type": "stream",
     "text": [
      "Model notf-mnist-hidden-1 Demonstration\n"
     ]
    },
    {
     "name": "stderr",
     "output_type": "stream",
     "text": [
      "/usr/local/lib/python3.4/dist-packages/matplotlib/figure.py:418: UserWarning: matplotlib is currently using a non-GUI backend, so cannot show the figure\n",
      "  \"matplotlib is currently using a non-GUI backend, \"\n"
     ]
    },
    {
     "data": {
      "image/png": "[encoded data removed]",
      "text/plain": [
       "<matplotlib.figure.Figure at 0x7f0ef06a75c0>"
      ]
     },
     "metadata": {},
     "output_type": "display_data"
    },
    {
     "name": "stdout",
     "output_type": "stream",
     "text": [
      "Model notf-mnist-hidden-3 Demonstration\n"
     ]
    },
    {
     "data": {
      "image/png": "[encoded data removed]",
      "text/plain": [
       "<matplotlib.figure.Figure at 0x7f0ef067f7b8>"
      ]
     },
     "metadata": {},
     "output_type": "display_data"
    }
   ],
   "source": [
    "mc4 = NoTFMLPModel(\"notf-mnist-hidden-1\", md, [32], 0.01)\n",
    "mc5 = NoTFMLPModel(\"notf-mnist-hidden-3\", md, [16,8,4], 0.01)\n",
    "\n",
    "mc4.demonstrate(16, True)\n",
    "mc5.demonstrate(16, True)"
   ]
  },
  {
   "cell_type": "code",
   "execution_count": null,
   "metadata": {},
   "outputs": [],
   "source": []
  }
 ],
 "metadata": {
  "kernelspec": {
   "display_name": "Python 3",
   "language": "python",
   "name": "python3"
  },
  "language_info": {
   "codemirror_mode": {
    "name": "ipython",
    "version": 3
   },
   "file_extension": ".py",
   "mimetype": "text/x-python",
   "name": "python",
   "nbconvert_exporter": "python",
   "pygments_lexer": "ipython3",
   "version": "3.4.3"
  }
 },
 "nbformat": 4,
 "nbformat_minor": 2
}
