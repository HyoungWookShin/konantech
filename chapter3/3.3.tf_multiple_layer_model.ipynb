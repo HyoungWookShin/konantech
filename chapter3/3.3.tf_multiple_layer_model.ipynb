{
 "cells": [
  {
   "cell_type": "code",
   "execution_count": 1,
   "metadata": {},
   "outputs": [],
   "source": [
    "import numpy as np"
   ]
  },
  {
   "cell_type": "code",
   "execution_count": 2,
   "metadata": {},
   "outputs": [],
   "source": [
    "random_fix = True"
   ]
  },
  {
   "cell_type": "code",
   "execution_count": 3,
   "metadata": {},
   "outputs": [],
   "source": [
    "class Dataset():\n",
    "    def __init__(self, mode):\n",
    "        self.mode = mode\n",
    "        self.input_dim = self.output_dim = self.train_count = 0\n",
    "        self.train_xs = self.test_xs = self.validate_xs = []\n",
    "        self.train_ys = self.test_ys = self.validate_ys = []\n",
    "        self.target_names = []\n",
    "    \n",
    "    def get_train_data(self, batch_size, nth):\n",
    "        if nth == 0:\n",
    "            self.indices = np.arange(self.train_count)\n",
    "            np.random.shuffle(self.indices)\n",
    "        \n",
    "        from_idx = nth * batch_size\n",
    "        to_idx = (nth + 1) * batch_size\n",
    "    \n",
    "        train_X = self.train_xs[self.indices[from_idx:to_idx]]\n",
    "        train_Y = self.train_ys[self.indices[from_idx:to_idx]]\n",
    "        \n",
    "        return train_X, train_Y    \n",
    "    \n",
    "    def get_test_data(self, validate=False, count=0):\n",
    "        if validate:\n",
    "            xs, ys = self.validate_xs, self.validate_ys\n",
    "        else:\n",
    "            xs, ys = self.test_xs, self.test_ys\n",
    "        \n",
    "        if count == 0:\n",
    "            return xs, ys\n",
    "        \n",
    "        if count > len(xs): count = len(xs)\n",
    "        \n",
    "        indices = np.arange(len(xs))\n",
    "        np.random.shuffle(indices)\n",
    "        \n",
    "        return xs[indices[0:count]], ys[indices[0:count]]\n",
    "    \n",
    "    def get_target_name(self, idxs):\n",
    "        return self.target_names[idxs]\n",
    "    \n",
    "    def demonstrate(self, x, estimate, answer):\n",
    "        pass"
   ]
  },
  {
   "cell_type": "code",
   "execution_count": 4,
   "metadata": {},
   "outputs": [],
   "source": [
    "from sklearn import datasets\n",
    "\n",
    "class IrisDataset(Dataset):\n",
    "    pass"
   ]
  },
  {
   "cell_type": "code",
   "execution_count": 5,
   "metadata": {},
   "outputs": [],
   "source": [
    "def iris_init(self, mode, train_ratio=0.8):\n",
    "    Dataset.__init__(self, mode)\n",
    "    \n",
    "    dataset = datasets.load_iris()\n",
    "    \n",
    "    xs, ys = iris_prepare(self, mode, dataset.data, dataset.target)\n",
    "    \n",
    "    data_count = len(dataset.data)\n",
    "    self.train_count = int(data_count * train_ratio)\n",
    "\n",
    "    if random_fix: np.random.seed(1234)\n",
    "\n",
    "    indices = np.arange(data_count)\n",
    "    np.random.shuffle(indices)\n",
    "\n",
    "    self.train_xs = xs[indices[0:self.train_count]]\n",
    "    self.train_ys = ys[indices[0:self.train_count]]\n",
    "    self.test_xs = self.validate_xs = xs[indices[self.train_count:]]\n",
    "    self.test_ys = self.validate_ys = ys[indices[self.train_count:]]\n",
    "    \n",
    "    self.target_names = dataset.target_names\n",
    "\n",
    "def iris_prepare(self, mode, data, target):\n",
    "    if mode == \"regression\":\n",
    "        self.input_dim = 3\n",
    "        self.output_dim = 1\n",
    "        xs = data[:, 0:3]\n",
    "        ys = data[:, 3:4]\n",
    "    elif mode == \"binary\":\n",
    "        self.input_dim = 4\n",
    "        self.output_dim = 1\n",
    "        xs = data\n",
    "        ys = np.equal(target, 0).astype(\"float32\").reshape(-1,1)\n",
    "    elif mode == \"select\":\n",
    "        self.input_dim = 4\n",
    "        self.output_dim = 3\n",
    "        xs = data\n",
    "        ys = np.eye(3)[target]\n",
    "        \n",
    "    return xs, ys\n",
    "\n",
    "IrisDataset.__init__ = iris_init"
   ]
  },
  {
   "cell_type": "code",
   "execution_count": 6,
   "metadata": {},
   "outputs": [],
   "source": [
    "def iris_demonstrate(self, x, estimate, answer):\n",
    "    if self.mode == \"regression\":\n",
    "        print(\"({}, {}, {}) => 추정 {:3.1f}, 정답: {:3.1f}\".format(x[0], x[1], x[2], estimate, answer))\n",
    "    elif self.mode == \"binary\":\n",
    "        estr = \"is setosa\"\n",
    "        astr = \"(오답)\"\n",
    "        if not estimate: estr = \"is not setosa\"\n",
    "        if estimate == answer: astr = \"(정답)\"\n",
    "        print(\"({}, {}, {}, {}) => {} {}\".format(x[0], x[1], x[2], x[3], estr, astr))\n",
    "    elif self.mode == \"select\":\n",
    "        estr = self.target_names[estimate]\n",
    "        astr = \"({})\".format(self.target_names[answer])\n",
    "        if estimate == answer: astr = \"(정답)\"\n",
    "        print(\"({}, {}, {}, {}) => {} {}\".format(x[0], x[1], x[2], x[3], estr, astr))\n",
    "    \n",
    "IrisDataset.demonstrate = iris_demonstrate"
   ]
  },
  {
   "cell_type": "code",
   "execution_count": 7,
   "metadata": {},
   "outputs": [],
   "source": [
    "id1 = IrisDataset(\"regression\")\n",
    "id2 = IrisDataset(\"binary\", 0.88)\n",
    "id3 = IrisDataset(\"select\", 0.7)"
   ]
  },
  {
   "cell_type": "code",
   "execution_count": 8,
   "metadata": {},
   "outputs": [],
   "source": [
    "class Model(object):\n",
    "    def __init__(self, name, dataset):\n",
    "        self.name = name\n",
    "        self.dataset = dataset\n",
    "        \n",
    "    def train(self, epoch_count=10, batch_size=10):\n",
    "        pass\n",
    "    \n",
    "    def test(self):\n",
    "        pass\n",
    "    \n",
    "    def demonstrate(self, num=10, batch=False):\n",
    "        pass"
   ]
  },
  {
   "cell_type": "code",
   "execution_count": 9,
   "metadata": {},
   "outputs": [],
   "source": [
    "import tensorflow as tf\n",
    "\n",
    "class MultiLayerPerceptronModel(Model):\n",
    "    pass"
   ]
  },
  {
   "cell_type": "code",
   "execution_count": 10,
   "metadata": {},
   "outputs": [],
   "source": [
    "import time\n",
    "\n",
    "def mlp_model_train(self, epoch_count=10, batch_size=10):\n",
    "    if batch_size == 0:\n",
    "        batch_size = self.dataset.train_count\n",
    "        \n",
    "    batch_count = int(self.dataset.train_count / batch_size)\n",
    "    report_period = epoch_count / 10\n",
    "    \n",
    "    sess = tf.Session()\n",
    "    sess.run(tf.global_variables_initializer())\n",
    "\n",
    "    if random_fix: np.random.seed(1945)\n",
    "    \n",
    "    time1 = time2 = int(time.time())\n",
    "    \n",
    "    print(\"Model {} train report:\".format(self.name))\n",
    "    \n",
    "    dset = self.dataset\n",
    "    run_targets = [self.train_op, self.loss, self.accuracy]\n",
    "\n",
    "    for epoch in range(epoch_count):\n",
    "        costs = []\n",
    "        accs = []\n",
    "        for n in range(batch_count):\n",
    "            train_X, train_Y = dset.get_train_data(batch_size, n)\n",
    "            _, cost, acc = sess.run(run_targets, \\\n",
    "                feed_dict={self.x:train_X, self.y:train_Y})\n",
    "            costs.append(cost)\n",
    "            accs.append(acc)\n",
    "            \n",
    "        if (epoch+1) % report_period == 0:\n",
    "            validate_X, validate_Y = dset.get_test_data(True, 30)\n",
    "            acc = sess.run(self.accuracy, \\\n",
    "                feed_dict={self.x:validate_X, self.y:validate_Y})\n",
    "            time3 = int(time.time())\n",
    "            print(\"    Epoch {}: cost={:5.3f}, \\\n",
    "accuracy={:5.3f}/{:5.3f} ({}/{} secs)\". \\\n",
    "                  format(epoch+1, np.mean(costs), np.mean(accs), \\\n",
    "                         acc, time3-time2, time3-time1))\n",
    "            time2 = time3\n",
    "\n",
    "    print(\"\")\n",
    "    \n",
    "    path = \"params/{}.ckpt\".format(self.name)\n",
    "    self.saver.save(sess, path)\n",
    "    sess.close()\n",
    "\n",
    "MultiLayerPerceptronModel.train = mlp_model_train"
   ]
  },
  {
   "cell_type": "code",
   "execution_count": 11,
   "metadata": {},
   "outputs": [],
   "source": [
    "def mlp_model_test(self):\n",
    "    test_X, test_Y = self.dataset.get_test_data()\n",
    "\n",
    "    sess = tf.Session()\n",
    "    path = \"params/{}.ckpt\".format(self.name)\n",
    "    self.saver.restore(sess, path)\n",
    "    \n",
    "    time1 = int(time.time())\n",
    "    acc = sess.run(self.accuracy, feed_dict={self.x:test_X, self.y:test_Y})\n",
    "    time2 = int(time.time())\n",
    "    \n",
    "    print(\"Model {} test report: accuracy = {:5.3f}, ({} secs)\".format(self.name, acc, time2-time1))\n",
    "    print(\"\")\n",
    "    \n",
    "    sess.close()\n",
    "\n",
    "MultiLayerPerceptronModel.test = mlp_model_test"
   ]
  },
  {
   "cell_type": "code",
   "execution_count": 12,
   "metadata": {},
   "outputs": [],
   "source": [
    "def mlp_model_demonstrate(self, num=10, batch=False):\n",
    "    demo_X, demo_Y = self.dataset.get_test_data(False, num)\n",
    "\n",
    "    sess = tf.Session()\n",
    "    path = \"params/{}.ckpt\".format(self.name)\n",
    "    self.saver.restore(sess, path)\n",
    "    \n",
    "    print(\"Model {} Demonstration\".format(self.name))\n",
    "    est, ans = sess.run([self.estimate, self.answer], \\\n",
    "           feed_dict={self.x:demo_X, self.y:demo_Y})\n",
    "    if batch:\n",
    "        self.dataset.demonstrate(demo_X, est, ans)\n",
    "    else:\n",
    "        for n in range(len(demo_X)):\n",
    "            self.dataset.demonstrate(demo_X[n], est[n], ans[n])\n",
    "        print(\"\")\n",
    "    \n",
    "    sess.close()\n",
    "    \n",
    "MultiLayerPerceptronModel.demonstrate = mlp_model_demonstrate"
   ]
  },
  {
   "cell_type": "code",
   "execution_count": 13,
   "metadata": {},
   "outputs": [],
   "source": [
    "def mlp_init(self, name, dataset, hidden_dims, learning_rate=0.001):\n",
    "    Model.__init__(self, name, dataset)\n",
    "    with tf.variable_scope(self.name):\n",
    "        self.build_placeholders()\n",
    "        self.build_parameters(hidden_dims)\n",
    "        self.build_neuralnet(hidden_dims)\n",
    "        self.build_loss_accuracy()\n",
    "        self.build_optimizer(learning_rate)\n",
    "        self.build_saver()\n",
    "        \n",
    "MultiLayerPerceptronModel.__init__ = mlp_init"
   ]
  },
  {
   "cell_type": "code",
   "execution_count": 14,
   "metadata": {},
   "outputs": [],
   "source": [
    "def build_placeholders(self):\n",
    "    input_dim = self.dataset.input_dim\n",
    "    output_dim = self.dataset.output_dim\n",
    "    self.x = tf.placeholder(\"float\", [None, input_dim])\n",
    "    self.y = tf.placeholder(\"float\", [None, output_dim])\n",
    "        \n",
    "MultiLayerPerceptronModel.build_placeholders = build_placeholders"
   ]
  },
  {
   "cell_type": "code",
   "execution_count": 15,
   "metadata": {},
   "outputs": [],
   "source": [
    "def build_parameters(self, hidden_dims):\n",
    "    if random_fix: np.random.seed(9876)\n",
    "\n",
    "    input_dim = self.dataset.input_dim\n",
    "    output_dim = self.dataset.output_dim\n",
    "\n",
    "    self.weights, self.biases = [], []\n",
    "    \n",
    "    prev_dim = input_dim\n",
    "\n",
    "    for n in range(len(hidden_dims)):\n",
    "        next_dim = hidden_dims[n]\n",
    "        w = tf.Variable(init_rand_normal(prev_dim, next_dim))\n",
    "        b = tf.Variable(tf.zeros([next_dim]))\n",
    "        self.weights.append(w)\n",
    "        self.biases.append(b)\n",
    "        prev_dim = next_dim\n",
    "\n",
    "    w = tf.Variable(init_rand_normal(prev_dim, output_dim))\n",
    "    b = tf.Variable(tf.zeros([output_dim]))\n",
    "    self.weights.append(w)\n",
    "    self.biases.append(b)\n",
    "\n",
    "def init_rand_normal(in_dim, out_dim, rand_std=0.0300):\n",
    "    if not random_fix:\n",
    "        init = tf.random_normal([in_dim, out_dim], stddev=rand_std)\n",
    "    else:\n",
    "        init_64 = np.random.normal(0, rand_std, [in_dim, out_dim])\n",
    "        init = init_64.astype('float32')\n",
    "\n",
    "    return init\n",
    "        \n",
    "MultiLayerPerceptronModel.build_parameters = build_parameters"
   ]
  },
  {
   "cell_type": "code",
   "execution_count": 16,
   "metadata": {},
   "outputs": [],
   "source": [
    "def build_neuralnet(self, hidden_dims):\n",
    "    hidden = self.x\n",
    "    for n in range(len(hidden_dims)):\n",
    "        affine = tf.matmul(hidden, self.weights[n]) + self.biases[n]\n",
    "        hidden = tf.nn.relu(affine)\n",
    "    self.output = tf.matmul(hidden, self.weights[-1]) + self.biases[-1]\n",
    "        \n",
    "MultiLayerPerceptronModel.build_neuralnet = build_neuralnet"
   ]
  },
  {
   "cell_type": "code",
   "execution_count": 17,
   "metadata": {},
   "outputs": [],
   "source": [
    "def build_loss_accuracy(self):\n",
    "    if self.dataset.mode == \"regression\":\n",
    "        self.estimate = self.output[:,0]\n",
    "        self.answer = self.y[:,0]\n",
    "        diff = self.estimate - self.answer\n",
    "        self.loss = tf.reduce_mean(tf.pow(diff, 2))\n",
    "        error = tf.reduce_mean(tf.abs(diff) / self.answer)\n",
    "        self.accuracy = 1 - error\n",
    "    elif self.dataset.mode == \"binary\":\n",
    "        cross_entropy = tf.nn.sigmoid_cross_entropy_with_logits(labels=self.y, logits=self.output)\n",
    "        self.loss = tf.reduce_mean(cross_entropy)\n",
    "        #probs = tf.nn.sigmoid(output)\n",
    "        #estimate = tf.greater(probs, 0.5)\n",
    "        self.estimate = tf.greater(self.output, 0)\n",
    "        self.answer = tf.equal(self.y, 1.0)\n",
    "        correct_bool = tf.equal(self.estimate, self.answer)\n",
    "        correct = tf.cast(correct_bool, \"float\")\n",
    "        self.accuracy = tf.reduce_mean(correct)\n",
    "    elif self.dataset.mode == \"select\":\n",
    "        cross_entropy = tf.nn.softmax_cross_entropy_with_logits(labels=self.y, logits=self.output)\n",
    "        self.loss = tf.reduce_mean(cross_entropy)\n",
    "        #probs = tf.nn.softmax(output)\n",
    "        #estimate = tf.argmax(probs, 1)\n",
    "        self.estimate = tf.argmax(self.output, 1)\n",
    "        self.answer = tf.argmax(self.y, 1)\n",
    "        correct_bool = tf.equal(self.estimate, self.answer)\n",
    "        correct = tf.cast(correct_bool, \"float\")\n",
    "        self.accuracy = tf.reduce_mean(correct)\n",
    "        \n",
    "MultiLayerPerceptronModel.build_loss_accuracy = build_loss_accuracy"
   ]
  },
  {
   "cell_type": "code",
   "execution_count": 18,
   "metadata": {},
   "outputs": [],
   "source": [
    "def build_optimizer(self, learning_rate):\n",
    "    optimizer = tf.train.GradientDescentOptimizer(learning_rate)\n",
    "    self.train_op = optimizer.minimize(self.loss)\n",
    "\n",
    "def build_saver(self):\n",
    "    var_list = tf.get_collection(tf.GraphKeys.GLOBAL_VARIABLES, scope=self.name)\n",
    "    self.saver = tf.train.Saver(var_list=var_list)\n",
    "        \n",
    "MultiLayerPerceptronModel.build_optimizer = build_optimizer\n",
    "MultiLayerPerceptronModel.build_saver = build_saver"
   ]
  },
  {
   "cell_type": "code",
   "execution_count": 19,
   "metadata": {},
   "outputs": [
    {
     "name": "stdout",
     "output_type": "stream",
     "text": [
      "Model iris-regression-hid-1 train report:\n",
      "    Epoch 10: cost=0.548, accuracy=0.070/-0.261 (0/0 secs)\n",
      "    Epoch 20: cost=0.264, accuracy=-0.211/-0.654 (0/0 secs)\n",
      "    Epoch 30: cost=0.229, accuracy=-0.134/-0.556 (1/1 secs)\n",
      "    Epoch 40: cost=0.196, accuracy=-0.028/-0.441 (0/1 secs)\n",
      "    Epoch 50: cost=0.165, accuracy=0.067/-0.314 (0/1 secs)\n",
      "    Epoch 60: cost=0.137, accuracy=0.169/-0.178 (0/1 secs)\n",
      "    Epoch 70: cost=0.112, accuracy=0.280/-0.052 (1/2 secs)\n",
      "    Epoch 80: cost=0.092, accuracy=0.379/0.078 (0/2 secs)\n",
      "    Epoch 90: cost=0.077, accuracy=0.472/0.194 (0/2 secs)\n",
      "    Epoch 100: cost=0.066, accuracy=0.547/0.297 (0/2 secs)\n",
      "\n",
      "Model iris-binary-hid-3 train report:\n",
      "    Epoch 10: cost=0.690, accuracy=0.669/0.667 (0/0 secs)\n",
      "    Epoch 20: cost=0.687, accuracy=0.662/0.667 (0/0 secs)\n",
      "    Epoch 30: cost=0.683, accuracy=0.669/0.667 (1/1 secs)\n",
      "    Epoch 40: cost=0.681, accuracy=0.662/0.667 (0/1 secs)\n",
      "    Epoch 50: cost=0.678, accuracy=0.669/0.667 (0/1 secs)\n",
      "    Epoch 60: cost=0.676, accuracy=0.662/0.667 (1/2 secs)\n",
      "    Epoch 70: cost=0.673, accuracy=0.669/0.667 (0/2 secs)\n",
      "    Epoch 80: cost=0.672, accuracy=0.662/0.667 (1/3 secs)\n",
      "    Epoch 90: cost=0.669, accuracy=0.662/0.667 (0/3 secs)\n",
      "    Epoch 100: cost=0.666, accuracy=0.669/0.667 (0/3 secs)\n",
      "\n",
      "Model iris-select-hid-none train report:\n",
      "    Epoch 10: cost=1.013, accuracy=0.550/0.600 (1/1 secs)\n",
      "    Epoch 20: cost=0.960, accuracy=0.720/0.833 (0/1 secs)\n",
      "    Epoch 30: cost=0.914, accuracy=0.840/1.000 (0/1 secs)\n",
      "    Epoch 40: cost=0.869, accuracy=0.670/0.733 (0/1 secs)\n",
      "    Epoch 50: cost=0.843, accuracy=0.860/1.000 (1/2 secs)\n",
      "    Epoch 60: cost=0.806, accuracy=0.870/0.967 (0/2 secs)\n",
      "    Epoch 70: cost=0.774, accuracy=0.790/0.900 (0/2 secs)\n",
      "    Epoch 80: cost=0.756, accuracy=0.860/0.867 (0/2 secs)\n",
      "    Epoch 90: cost=0.737, accuracy=0.950/1.000 (0/2 secs)\n",
      "    Epoch 100: cost=0.707, accuracy=0.830/0.933 (0/2 secs)\n",
      "\n"
     ]
    }
   ],
   "source": [
    "m1 = MultiLayerPerceptronModel(\"iris-regression-hid-1\", id1, [10])\n",
    "m1.train(epoch_count=100)\n",
    "\n",
    "m2 = MultiLayerPerceptronModel(\"iris-binary-hid-3\", id2, [8,4,2])\n",
    "m2.train(epoch_count=100)\n",
    "\n",
    "m3 = MultiLayerPerceptronModel(\"iris-select-hid-none\", id3, [])\n",
    "m3.train(epoch_count=100)"
   ]
  },
  {
   "cell_type": "code",
   "execution_count": 20,
   "metadata": {},
   "outputs": [
    {
     "name": "stdout",
     "output_type": "stream",
     "text": [
      "INFO:tensorflow:Restoring parameters from params/iris-regression-hid-1.ckpt\n",
      "Model iris-regression-hid-1 test report: accuracy = 0.297, (0 secs)\n",
      "\n",
      "INFO:tensorflow:Restoring parameters from params/iris-binary-hid-3.ckpt\n",
      "Model iris-binary-hid-3 test report: accuracy = 0.667, (0 secs)\n",
      "\n",
      "INFO:tensorflow:Restoring parameters from params/iris-select-hid-none.ckpt\n",
      "Model iris-select-hid-none test report: accuracy = 0.956, (0 secs)\n",
      "\n"
     ]
    }
   ],
   "source": [
    "m1.test()\n",
    "m2.test()\n",
    "m3.test()"
   ]
  },
  {
   "cell_type": "code",
   "execution_count": 21,
   "metadata": {
    "scrolled": true
   },
   "outputs": [
    {
     "name": "stdout",
     "output_type": "stream",
     "text": [
      "INFO:tensorflow:Restoring parameters from params/iris-regression-hid-1.ckpt\n",
      "Model iris-regression-hid-1 Demonstration\n",
      "(6.6, 3.0, 4.4) => 추정 1.5, 정답: 1.4\n",
      "(6.8, 3.0, 5.5) => 추정 1.8, 정답: 2.1\n",
      "(4.7, 3.2, 1.3) => 추정 0.4, 정답: 0.2\n",
      "(4.6, 3.2, 1.4) => 추정 0.4, 정답: 0.2\n",
      "(5.1, 3.3, 1.7) => 추정 0.5, 정답: 0.5\n",
      "\n",
      "INFO:tensorflow:Restoring parameters from params/iris-binary-hid-3.ckpt\n",
      "Model iris-binary-hid-3 Demonstration\n",
      "(5.5, 2.4, 3.8, 1.1) => is not setosa (정답)\n",
      "(6.8, 3.2, 5.9, 2.3) => is not setosa (정답)\n",
      "(5.6, 2.5, 3.9, 1.1) => is not setosa (정답)\n",
      "(5.0, 3.4, 1.6, 0.4) => is not setosa (오답)\n",
      "(6.8, 2.8, 4.8, 1.4) => is not setosa (정답)\n",
      "\n",
      "INFO:tensorflow:Restoring parameters from params/iris-select-hid-none.ckpt\n",
      "Model iris-select-hid-none Demonstration\n",
      "(6.1, 3.0, 4.9, 1.8) => virginica (정답)\n",
      "(6.9, 3.2, 5.7, 2.3) => virginica (정답)\n",
      "(7.3, 2.9, 6.3, 1.8) => virginica (정답)\n",
      "(5.5, 2.4, 3.8, 1.1) => versicolor (정답)\n",
      "(5.0, 3.4, 1.6, 0.4) => setosa (정답)\n",
      "\n"
     ]
    }
   ],
   "source": [
    "m1.demonstrate(5)\n",
    "m2.demonstrate(5)\n",
    "m3.demonstrate(5)"
   ]
  },
  {
   "cell_type": "code",
   "execution_count": 22,
   "metadata": {},
   "outputs": [],
   "source": [
    "from tensorflow.examples.tutorials.mnist import input_data\n",
    "import matplotlib.pyplot as plt\n",
    "\n",
    "class MnistDataset(Dataset):\n",
    "    pass\n",
    "\n",
    "def mnist_init(self):\n",
    "    Dataset.__init__(self, \"select\")\n",
    "    \n",
    "    dataset = input_data.read_data_sets(\"MNIST_data/\", one_hot=True)\n",
    "        \n",
    "    self.train_xs = dataset.train.images\n",
    "    self.train_ys = dataset.train.labels\n",
    "        \n",
    "    self.validate_xs = dataset.validation.images\n",
    "    self.validate_ys = dataset.validation.labels\n",
    "        \n",
    "    self.test_xs = dataset.test.images\n",
    "    self.test_ys = dataset.test.labels\n",
    "\n",
    "    self.input_dim = 28 * 28\n",
    "    self.output_dim = 10\n",
    "    \n",
    "    self.train_count = len(dataset.train.images)\n",
    "    self.target_names = ['0','1','2','3','4','5','6','7','8','9']\n",
    "\n",
    "def mnist_demonstrate(self, xs, est, ans):\n",
    "    rows, cols = 4, 4\n",
    "    f, a = plt.subplots(rows, cols, figsize=(cols, rows))\n",
    "    for row in range(cols):\n",
    "        for col in range(cols):\n",
    "            i = row * cols + col\n",
    "            estr = self.target_names[est[i]]\n",
    "            astr = self.target_names[ans[i]]\n",
    "            if est[i] == ans[i]:\n",
    "                caption = \"{}\".format(estr)\n",
    "            else:\n",
    "                caption = \"{}=>{}\".format(astr, estr)\n",
    "            a[row][col].axvspan(0, 0, 0, 6.0)\n",
    "            a[row][col].imshow(np.reshape(xs[i], (28,28)))\n",
    "            a[row][col].text(0.5, -1.5, caption)\n",
    "            a[row][col].axis('off')\n",
    "    f.show()\n",
    "    plt.draw()\n",
    "    plt.show()\n",
    "        \n",
    "MnistDataset.__init__ = mnist_init\n",
    "MnistDataset.demonstrate = mnist_demonstrate"
   ]
  },
  {
   "cell_type": "code",
   "execution_count": 23,
   "metadata": {},
   "outputs": [
    {
     "name": "stdout",
     "output_type": "stream",
     "text": [
      "Extracting MNIST_data/train-images-idx3-ubyte.gz\n",
      "Extracting MNIST_data/train-labels-idx1-ubyte.gz\n",
      "Extracting MNIST_data/t10k-images-idx3-ubyte.gz\n",
      "Extracting MNIST_data/t10k-labels-idx1-ubyte.gz\n"
     ]
    }
   ],
   "source": [
    "md = MnistDataset()"
   ]
  },
  {
   "cell_type": "code",
   "execution_count": 24,
   "metadata": {},
   "outputs": [
    {
     "name": "stdout",
     "output_type": "stream",
     "text": [
      "Model mnist-hidden-1 train report:\n",
      "    Epoch 1: cost=0.670, accuracy=0.813/0.900 (12/12 secs)\n",
      "    Epoch 2: cost=0.310, accuracy=0.912/1.000 (12/24 secs)\n",
      "    Epoch 3: cost=0.262, accuracy=0.925/0.933 (11/35 secs)\n",
      "    Epoch 4: cost=0.227, accuracy=0.936/0.967 (12/47 secs)\n",
      "    Epoch 5: cost=0.200, accuracy=0.943/0.967 (12/59 secs)\n",
      "    Epoch 6: cost=0.180, accuracy=0.949/0.967 (11/70 secs)\n",
      "    Epoch 7: cost=0.163, accuracy=0.953/0.967 (12/82 secs)\n",
      "    Epoch 8: cost=0.150, accuracy=0.956/0.867 (11/93 secs)\n",
      "    Epoch 9: cost=0.139, accuracy=0.960/0.967 (11/104 secs)\n",
      "    Epoch 10: cost=0.130, accuracy=0.963/0.900 (11/115 secs)\n",
      "\n",
      "INFO:tensorflow:Restoring parameters from params/mnist-hidden-1.ckpt\n",
      "Model mnist-hidden-1 test report: accuracy = 0.959, (0 secs)\n",
      "\n",
      "Model mnist-hidden-3 train report:\n",
      "    Epoch 1: cost=2.302, accuracy=0.112/0.133 (13/13 secs)\n",
      "    Epoch 2: cost=2.301, accuracy=0.112/0.133 (14/27 secs)\n",
      "    Epoch 3: cost=2.301, accuracy=0.112/0.100 (14/41 secs)\n",
      "    Epoch 4: cost=2.301, accuracy=0.112/0.100 (14/55 secs)\n",
      "    Epoch 5: cost=2.122, accuracy=0.169/0.300 (13/68 secs)\n",
      "    Epoch 6: cost=1.282, accuracy=0.508/0.700 (14/82 secs)\n",
      "    Epoch 7: cost=0.881, accuracy=0.679/0.833 (13/95 secs)\n",
      "    Epoch 8: cost=0.538, accuracy=0.840/0.800 (14/109 secs)\n",
      "    Epoch 9: cost=0.404, accuracy=0.886/0.900 (13/122 secs)\n",
      "    Epoch 10: cost=0.353, accuracy=0.902/0.867 (14/136 secs)\n",
      "\n",
      "INFO:tensorflow:Restoring parameters from params/mnist-hidden-3.ckpt\n",
      "Model mnist-hidden-3 test report: accuracy = 0.908, (0 secs)\n",
      "\n"
     ]
    }
   ],
   "source": [
    "m4 = MultiLayerPerceptronModel(\"mnist-hidden-1\", md, [32], 0.01)\n",
    "m4.train(epoch_count=10)\n",
    "m4.test()\n",
    "\n",
    "m5 = MultiLayerPerceptronModel(\"mnist-hidden-3\", md, [16,8,4], 0.01)\n",
    "m5.train(epoch_count=10)\n",
    "m5.test()"
   ]
  },
  {
   "cell_type": "code",
   "execution_count": 25,
   "metadata": {},
   "outputs": [
    {
     "name": "stdout",
     "output_type": "stream",
     "text": [
      "INFO:tensorflow:Restoring parameters from params/mnist-hidden-1.ckpt\n",
      "Model mnist-hidden-1 Demonstration\n"
     ]
    },
    {
     "name": "stderr",
     "output_type": "stream",
     "text": [
      "/usr/local/lib/python3.4/dist-packages/matplotlib/figure.py:418: UserWarning: matplotlib is currently using a non-GUI backend, so cannot show the figure\n",
      "  \"matplotlib is currently using a non-GUI backend, \"\n"
     ]
    },
    {
     "data": {
      "image/png": "[encoded data removed]",
      "text/plain": [
       "<matplotlib.figure.Figure at 0x7f719a1c6978>"
      ]
     },
     "metadata": {},
     "output_type": "display_data"
    },
    {
     "name": "stdout",
     "output_type": "stream",
     "text": [
      "INFO:tensorflow:Restoring parameters from params/mnist-hidden-3.ckpt\n",
      "Model mnist-hidden-3 Demonstration\n"
     ]
    },
    {
     "data": {
      "image/png": "[encoded data removed]",
      "text/plain": [
       "<matplotlib.figure.Figure at 0x7f70499b2828>"
      ]
     },
     "metadata": {},
     "output_type": "display_data"
    }
   ],
   "source": [
    "m4.demonstrate(16, True)\n",
    "m5.demonstrate(16, True)"
   ]
  },
  {
   "cell_type": "code",
   "execution_count": null,
   "metadata": {},
   "outputs": [],
   "source": []
  }
 ],
 "metadata": {
  "kernelspec": {
   "display_name": "Python 3",
   "language": "python",
   "name": "python3"
  },
  "language_info": {
   "codemirror_mode": {
    "name": "ipython",
    "version": 3
   },
   "file_extension": ".py",
   "mimetype": "text/x-python",
   "name": "python",
   "nbconvert_exporter": "python",
   "pygments_lexer": "ipython3",
   "version": "3.4.3"
  }
 },
 "nbformat": 4,
 "nbformat_minor": 2
}
