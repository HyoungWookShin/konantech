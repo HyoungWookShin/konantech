{
 "cells": [
  {
   "cell_type": "code",
   "execution_count": 1,
   "metadata": {},
   "outputs": [],
   "source": [
    "import numpy as np\n",
    "import tensorflow as tf\n",
    "from sklearn import datasets"
   ]
  },
  {
   "cell_type": "code",
   "execution_count": 2,
   "metadata": {},
   "outputs": [],
   "source": [
    "train_ratio = 0.8\n",
    "rand_std = 0.030\n",
    "learning_rate = 0.001\n",
    "epoch_count = 100\n",
    "report_period = 10\n",
    "random_fix = True"
   ]
  },
  {
   "cell_type": "code",
   "execution_count": 3,
   "metadata": {},
   "outputs": [],
   "source": [
    "iris_dataset = datasets.load_iris()\n",
    "\n",
    "data = iris_dataset.data\n",
    "target = iris_dataset.target\n",
    "target_names = iris_dataset.target_names\n",
    "\n",
    "#print(\"dimension: data{}, target{}, target_names{}\".\n",
    "#    format(data.shape, target.shape, target_names.shape))\n",
    "#print(target_names)\n",
    "#print(data[:5])\n",
    "#print(target[-5:])"
   ]
  },
  {
   "cell_type": "code",
   "execution_count": 4,
   "metadata": {},
   "outputs": [],
   "source": [
    "if random_fix: np.random.seed(1234)\n",
    "\n",
    "data_count = len(data)\n",
    "train_count = int(data_count * train_ratio)\n",
    "test_count = data_count - train_count\n",
    "    \n",
    "indices = np.arange(data_count)\n",
    "np.random.shuffle(indices)\n",
    "    \n",
    "train_data = data[indices[0:train_count]]\n",
    "train_target = target[indices[0:train_count]]\n",
    "    \n",
    "test_data = data[indices[train_count:data_count]]\n",
    "test_target = target[indices[train_count:data_count]]"
   ]
  },
  {
   "cell_type": "code",
   "execution_count": 5,
   "metadata": {},
   "outputs": [],
   "source": [
    "input_dim, output_dim = 4, 1\n",
    "\n",
    "def get_test_data():\n",
    "    test_X = test_data\n",
    "    test_Y = np.zeros([test_count, 1])\n",
    "    \n",
    "    for i in range(test_count):\n",
    "        if test_target[i] == 0: test_Y[i, 0] = 1.0\n",
    "            \n",
    "    return test_X, test_Y\n",
    "\n",
    "def get_train_data(batch_size, nth):\n",
    "    global indices\n",
    "    \n",
    "    if nth == 0:\n",
    "        indices = np.arange(train_count)\n",
    "        np.random.shuffle(indices)\n",
    "        \n",
    "    from_idx = nth * batch_size\n",
    "    to_idx = (nth + 1) * batch_size\n",
    "    \n",
    "    train_X = train_data[indices[from_idx:to_idx]]\n",
    "    train_Y = np.zeros([batch_size, 1])\n",
    "    \n",
    "    for i in range(batch_size):\n",
    "        k = indices[from_idx+i]\n",
    "        if train_target[k] == 0: train_Y[i, 0] = 1.0\n",
    "            \n",
    "    return train_X, train_Y"
   ]
  },
  {
   "cell_type": "code",
   "execution_count": 6,
   "metadata": {},
   "outputs": [],
   "source": [
    "def init_rand_normal(in_dim, out_dim):\n",
    "    if not random_fix:\n",
    "        init = tf.random_normal([in_dim, out_dim], stddev=rand_std)\n",
    "    else:\n",
    "        init_64 = np.random.normal(0, rand_std, [in_dim, out_dim])\n",
    "        init = init_64.astype('float32')\n",
    "\n",
    "    return init"
   ]
  },
  {
   "cell_type": "code",
   "execution_count": 7,
   "metadata": {},
   "outputs": [],
   "source": [
    "hidden_dim = 10\n",
    "\n",
    "x = tf.placeholder(\"float\", [None, input_dim])\n",
    "y = tf.placeholder(\"float\", [None, output_dim])\n",
    "\n",
    "if random_fix: np.random.seed(9876)\n",
    "\n",
    "w_hid = tf.Variable(init_rand_normal(input_dim, hidden_dim))\n",
    "b_hid = tf.Variable(tf.zeros([hidden_dim]))\n",
    "\n",
    "w_out = tf.Variable(init_rand_normal(hidden_dim, output_dim))\n",
    "b_out = tf.Variable(tf.zeros([output_dim]))"
   ]
  },
  {
   "cell_type": "code",
   "execution_count": 8,
   "metadata": {},
   "outputs": [],
   "source": [
    "hidden = tf.nn.relu(tf.matmul(x, w_hid) + b_hid)\n",
    "output = tf.matmul(hidden, w_out) + b_out"
   ]
  },
  {
   "cell_type": "code",
   "execution_count": 9,
   "metadata": {},
   "outputs": [],
   "source": [
    "cross_entropy = \\\n",
    "  tf.nn.sigmoid_cross_entropy_with_logits(labels=y, logits=output)\n",
    "loss = tf.reduce_mean(cross_entropy)\n",
    "\n",
    "#probs = tf.nn.sigmoid(output)\n",
    "#estimate = tf.greater(probs, 0.5)\n",
    "estimate = tf.greater(output, 0)\n",
    "answer = tf.equal(y, 1.0)\n",
    "correct = tf.cast(tf.equal(estimate, answer), \"float\")\n",
    "accuracy = tf.reduce_mean(correct)"
   ]
  },
  {
   "cell_type": "code",
   "execution_count": 10,
   "metadata": {},
   "outputs": [],
   "source": [
    "optimizer = tf.train.GradientDescentOptimizer(learning_rate)\n",
    "train_op = optimizer.minimize(loss)"
   ]
  },
  {
   "cell_type": "code",
   "execution_count": 11,
   "metadata": {},
   "outputs": [],
   "source": [
    "def train_and_test(batch_size=0):\n",
    "    if batch_size == 0: batch_size = train_count\n",
    "    batch_count = int(train_count / batch_size)\n",
    "    \n",
    "    test_X, test_Y = get_test_data()\n",
    "    \n",
    "    sess = tf.Session()\n",
    "    sess.run(tf.global_variables_initializer())\n",
    "\n",
    "    if random_fix: np.random.seed(1945)\n",
    "    \n",
    "    for epoch in range(epoch_count):\n",
    "        costs = []\n",
    "        accs = []\n",
    "        for n in range(batch_count):\n",
    "            train_X, train_Y = get_train_data(batch_size, n)\n",
    "            _, cost, acc = sess.run([train_op, loss, accuracy], \\\n",
    "                                    feed_dict={x:train_X, y:train_Y})\n",
    "            costs.append(cost)\n",
    "            accs.append(acc)\n",
    "            \n",
    "        if (epoch+1) % report_period == 0:\n",
    "            acc = sess.run(accuracy, feed_dict={x:test_X, y:test_Y})\n",
    "            print(\"Epoch {}: cost={:5.3f}, accuracy={:5.3f}/{:5.3f}\". \\\n",
    "                  format(epoch+1, np.mean(costs), np.mean(accs), acc))\n",
    "            \n",
    "    final_acc = sess.run(accuracy, feed_dict={x:test_X, y:test_Y})\n",
    "    print(\"\\nFinal Test: final accuracy = {:5.3f}\".format(final_acc))\n",
    "    \n",
    "    sess.close()"
   ]
  },
  {
   "cell_type": "code",
   "execution_count": 12,
   "metadata": {},
   "outputs": [
    {
     "name": "stdout",
     "output_type": "stream",
     "text": [
      "Epoch 10: cost=0.689, accuracy=0.675/0.633\n",
      "Epoch 20: cost=0.684, accuracy=0.675/0.633\n",
      "Epoch 30: cost=0.678, accuracy=0.675/0.633\n",
      "Epoch 40: cost=0.671, accuracy=0.675/0.633\n",
      "Epoch 50: cost=0.663, accuracy=0.675/0.633\n",
      "Epoch 60: cost=0.654, accuracy=0.675/0.633\n",
      "Epoch 70: cost=0.642, accuracy=0.675/0.633\n",
      "Epoch 80: cost=0.629, accuracy=0.675/0.633\n",
      "Epoch 90: cost=0.615, accuracy=0.675/0.633\n",
      "Epoch 100: cost=0.600, accuracy=0.675/0.633\n",
      "\n",
      "Final Test: final accuracy = 0.633\n"
     ]
    }
   ],
   "source": [
    "train_and_test(10)"
   ]
  },
  {
   "cell_type": "code",
   "execution_count": 13,
   "metadata": {},
   "outputs": [
    {
     "name": "stdout",
     "output_type": "stream",
     "text": [
      "Epoch 10: cost=0.695, accuracy=0.033/0.000\n",
      "Epoch 20: cost=0.695, accuracy=0.342/0.267\n",
      "Epoch 30: cost=0.694, accuracy=0.658/0.600\n",
      "Epoch 40: cost=0.693, accuracy=0.675/0.633\n",
      "Epoch 50: cost=0.693, accuracy=0.675/0.633\n",
      "Epoch 60: cost=0.692, accuracy=0.675/0.633\n",
      "Epoch 70: cost=0.692, accuracy=0.675/0.633\n",
      "Epoch 80: cost=0.691, accuracy=0.675/0.633\n",
      "Epoch 90: cost=0.691, accuracy=0.675/0.633\n",
      "Epoch 100: cost=0.690, accuracy=0.675/0.633\n",
      "\n",
      "Final Test: final accuracy = 0.633\n"
     ]
    }
   ],
   "source": [
    "train_and_test()"
   ]
  },
  {
   "cell_type": "code",
   "execution_count": 14,
   "metadata": {},
   "outputs": [
    {
     "name": "stdout",
     "output_type": "stream",
     "text": [
      "Epoch 10: cost=0.608, accuracy=0.675/0.633\n",
      "Epoch 20: cost=0.498, accuracy=0.675/0.633\n",
      "Epoch 30: cost=0.359, accuracy=0.675/0.633\n",
      "Epoch 40: cost=0.273, accuracy=0.942/0.900\n",
      "Epoch 50: cost=0.229, accuracy=0.983/0.967\n",
      "Epoch 60: cost=0.199, accuracy=1.000/1.000\n",
      "Epoch 70: cost=0.176, accuracy=1.000/1.000\n",
      "Epoch 80: cost=0.157, accuracy=1.000/1.000\n",
      "Epoch 90: cost=0.142, accuracy=1.000/1.000\n",
      "Epoch 100: cost=0.128, accuracy=1.000/1.000\n",
      "\n",
      "Final Test: final accuracy = 1.000\n"
     ]
    }
   ],
   "source": [
    "train_and_test(1)"
   ]
  }
 ],
 "metadata": {
  "kernelspec": {
   "display_name": "Python 3",
   "language": "python",
   "name": "python3"
  },
  "language_info": {
   "codemirror_mode": {
    "name": "ipython",
    "version": 3
   },
   "file_extension": ".py",
   "mimetype": "text/x-python",
   "name": "python",
   "nbconvert_exporter": "python",
   "pygments_lexer": "ipython3",
   "version": "3.4.3"
  }
 },
 "nbformat": 4,
 "nbformat_minor": 2
}
